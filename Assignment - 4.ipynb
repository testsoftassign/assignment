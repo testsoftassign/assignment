{
 "cells": [
  {
   "cell_type": "markdown",
   "id": "b9a74a68",
   "metadata": {},
   "source": [
    "# User Input Problems"
   ]
  },
  {
   "cell_type": "markdown",
   "id": "44722989",
   "metadata": {},
   "source": [
    "<b>Question 1. Write a python script to take your name as input from the user and then print it<b>"
   ]
  },
  {
   "cell_type": "code",
   "execution_count": 1,
   "id": "f0232f11",
   "metadata": {},
   "outputs": [
    {
     "name": "stdout",
     "output_type": "stream",
     "text": [
      "shiv sharma\n"
     ]
    }
   ],
   "source": [
    "v_name = input()"
   ]
  },
  {
   "cell_type": "markdown",
   "id": "c1518237",
   "metadata": {},
   "source": [
    "<b>Question 2. Write a python script to take input from the user. Input must be a number.<b>"
   ]
  },
  {
   "cell_type": "code",
   "execution_count": 2,
   "id": "eb881541",
   "metadata": {},
   "outputs": [
    {
     "name": "stdout",
     "output_type": "stream",
     "text": [
      "20\n"
     ]
    }
   ],
   "source": [
    "v_int = int(input())"
   ]
  },
  {
   "cell_type": "markdown",
   "id": "7f4e5331",
   "metadata": {},
   "source": [
    "<b>Question 3. Write a python script which takes two numbers from the user, then calculate their sum\n",
    "and display the result.\n"
   ]
  },
  {
   "cell_type": "code",
   "execution_count": 3,
   "id": "0b35e235",
   "metadata": {},
   "outputs": [
    {
     "name": "stdout",
     "output_type": "stream",
     "text": [
      "10\n",
      "20\n",
      "Total is :  30\n"
     ]
    }
   ],
   "source": [
    "v_num1 = int(input())\n",
    "v_num2 = int(input())\n",
    "\n",
    "print(\"Total is : \", v_num1 + v_num2)"
   ]
  },
  {
   "cell_type": "markdown",
   "id": "d1e62df2",
   "metadata": {},
   "source": [
    "<b>Question 4. Write a python script which takes the radius from the user and display area of a circle"
   ]
  },
  {
   "cell_type": "code",
   "execution_count": 2,
   "id": "4e7377d5",
   "metadata": {},
   "outputs": [
    {
     "name": "stdout",
     "output_type": "stream",
     "text": [
      "Enter the radius of the circle : 2\n",
      "The area of the circle : 12.566370614359172\n"
     ]
    }
   ],
   "source": [
    "from math import pi\n",
    "r = float(input (\"Enter the radius of the circle : \"))\n",
    "print (\"The area of the circle : \" + str(pi * r**2))"
   ]
  },
  {
   "cell_type": "markdown",
   "id": "98b2b5f9",
   "metadata": {},
   "source": [
    "<b>Question 5. Write a python script to calculate the square of a number. Number is entered by the user.\n"
   ]
  },
  {
   "cell_type": "code",
   "execution_count": 5,
   "id": "fbabbbb1",
   "metadata": {},
   "outputs": [
    {
     "name": "stdout",
     "output_type": "stream",
     "text": [
      "6\n"
     ]
    },
    {
     "data": {
      "text/plain": [
       "36"
      ]
     },
     "execution_count": 5,
     "metadata": {},
     "output_type": "execute_result"
    }
   ],
   "source": [
    "v_num = int(input())\n",
    "v_num**2"
   ]
  },
  {
   "cell_type": "markdown",
   "id": "b9b45e37",
   "metadata": {},
   "source": [
    "<b>Question 6. Write a python script to calculate the area of Triangle. Number is entered by the user.\n"
   ]
  },
  {
   "cell_type": "code",
   "execution_count": 6,
   "id": "9c59ddec",
   "metadata": {},
   "outputs": [
    {
     "name": "stdout",
     "output_type": "stream",
     "text": [
      "5\n",
      "34\n",
      "Area of Tringle is :  85.0\n"
     ]
    }
   ],
   "source": [
    "v_base = float(input())\n",
    "v_height = float(input())\n",
    "\n",
    "print(\"Area of Tringle is : \", (v_height * v_base)/2)"
   ]
  },
  {
   "cell_type": "markdown",
   "id": "77f0aad2",
   "metadata": {},
   "source": [
    "<b>Question 7. Write a python script to calculate average of three numbers, entered by the user"
   ]
  },
  {
   "cell_type": "code",
   "execution_count": 7,
   "id": "76677e8c",
   "metadata": {},
   "outputs": [
    {
     "name": "stdout",
     "output_type": "stream",
     "text": [
      "20\n",
      "80\n",
      "12\n",
      "Average of three number is :  56.0\n"
     ]
    }
   ],
   "source": [
    "v_1 = int(input())\n",
    "v_2 = int(input())\n",
    "v_3 = int(input())\n",
    "\n",
    "print(\"Average of three number is : \", (v_1+v_2+v_3)/2)"
   ]
  },
  {
   "cell_type": "markdown",
   "id": "002c4686",
   "metadata": {},
   "source": [
    "<b>Question 8. Write a python script to calculate simple interest"
   ]
  },
  {
   "cell_type": "code",
   "execution_count": 8,
   "id": "78f12528",
   "metadata": {},
   "outputs": [
    {
     "name": "stdout",
     "output_type": "stream",
     "text": [
      "4\n",
      "7\n",
      "8\n",
      "Simple interest is :  2.24\n"
     ]
    }
   ],
   "source": [
    "v_principal_amount = float(input())\n",
    "v_rate = float(input())\n",
    "v_time = int(input())\n",
    "\n",
    "print(\"Simple interest is : \", (v_principal_amount * v_rate * v_time)/ 100)"
   ]
  },
  {
   "cell_type": "markdown",
   "id": "aeb5db46",
   "metadata": {},
   "source": [
    "<b>Question 9. Write a python script to calculate the volume of a cuboid.\n"
   ]
  },
  {
   "cell_type": "code",
   "execution_count": 9,
   "id": "ba409ffa",
   "metadata": {},
   "outputs": [
    {
     "name": "stdout",
     "output_type": "stream",
     "text": [
      "4\n",
      "6\n",
      "2\n",
      "Volume of cuboid is :  48\n"
     ]
    }
   ],
   "source": [
    "v_length = int(input())\n",
    "v_width = int(input())\n",
    "v_heigth = int(input())\n",
    "\n",
    "print(\"Volume of cuboid is : \", v_length * v_width * v_heigth)\n"
   ]
  },
  {
   "cell_type": "markdown",
   "id": "348a1c9b",
   "metadata": {},
   "source": [
    "<b>Question 10. Write a python script to calculate area of a rectangle"
   ]
  },
  {
   "cell_type": "code",
   "execution_count": 10,
   "id": "8a99feca",
   "metadata": {},
   "outputs": [
    {
     "name": "stdout",
     "output_type": "stream",
     "text": [
      "8\n",
      "5\n",
      "Area of a rectangle is :  40\n"
     ]
    }
   ],
   "source": [
    "v_length = int(input())\n",
    "v_width = int(input())\n",
    "\n",
    "print(\"Area of a rectangle is : \", v_length * v_width)"
   ]
  }
 ],
 "metadata": {
  "kernelspec": {
   "display_name": "Python 3 (ipykernel)",
   "language": "python",
   "name": "python3"
  },
  "language_info": {
   "codemirror_mode": {
    "name": "ipython",
    "version": 3
   },
   "file_extension": ".py",
   "mimetype": "text/x-python",
   "name": "python",
   "nbconvert_exporter": "python",
   "pygments_lexer": "ipython3",
   "version": "3.10.7"
  }
 },
 "nbformat": 4,
 "nbformat_minor": 5
}
