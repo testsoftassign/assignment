{
 "cells": [
  {
   "cell_type": "markdown",
   "id": "0a8c9d69",
   "metadata": {},
   "source": [
    " <b>Question 1. Write a command to get the Python version you are using.</b>"
   ]
  },
  {
   "cell_type": "code",
   "execution_count": 1,
   "id": "9d9cf51b",
   "metadata": {},
   "outputs": [
    {
     "name": "stdout",
     "output_type": "stream",
     "text": [
      "3.10.6\n"
     ]
    }
   ],
   "source": [
    "from platform import python_version\n",
    "print(python_version())"
   ]
  },
  {
   "cell_type": "markdown",
   "id": "19661f9b",
   "metadata": {},
   "source": [
    "<b>Question 2.Write a python script to print Hello Python on the screen directly in the command line.</b>\n"
   ]
  },
  {
   "cell_type": "code",
   "execution_count": 2,
   "id": "22b45bd5",
   "metadata": {},
   "outputs": [
    {
     "name": "stdout",
     "output_type": "stream",
     "text": [
      "Hello Python\n"
     ]
    }
   ],
   "source": [
    "print(\"Hello Python\")"
   ]
  },
  {
   "cell_type": "markdown",
   "id": "39de3553",
   "metadata": {},
   "source": [
    "<b>Question 3. Write a python script and store it in a file and execute the file from the command line.</b>"
   ]
  },
  {
   "cell_type": "code",
   "execution_count": null,
   "id": "7b119438",
   "metadata": {},
   "outputs": [],
   "source": [
    "# %load Q_3_ASSIGNMENT.py\n",
    "print(\"Hello Python\");\n",
    "print(\"Answer of Question. 3 in Assignment 1\");"
   ]
  },
  {
   "cell_type": "code",
   "execution_count": 4,
   "id": "24ff2f22",
   "metadata": {},
   "outputs": [
    {
     "name": "stdout",
     "output_type": "stream",
     "text": [
      "Hello Python\n",
      "Answer of Question. 3 in Assignment 1\n"
     ]
    }
   ],
   "source": [
    "%run Q_3_ASSIGNMENT.py"
   ]
  },
  {
   "cell_type": "code",
   "execution_count": 5,
   "id": "6e9977b3",
   "metadata": {},
   "outputs": [
    {
     "name": "stdout",
     "output_type": "stream",
     "text": [
      "Hello Python\n"
     ]
    }
   ],
   "source": [
    "print(\"Hello Python\")"
   ]
  },
  {
   "cell_type": "markdown",
   "id": "57368c12",
   "metadata": {},
   "source": [
    "<b>Question 4.Write a python script to print Hello Python on the screen using visual studio code.</b>"
   ]
  },
  {
   "cell_type": "code",
   "execution_count": 6,
   "id": "e4637ea3",
   "metadata": {},
   "outputs": [
    {
     "name": "stdout",
     "output_type": "stream",
     "text": [
      "Hello Python\n"
     ]
    }
   ],
   "source": [
    "print(\"Hello Python\")"
   ]
  },
  {
   "cell_type": "markdown",
   "id": "d93c385c",
   "metadata": {},
   "source": [
    "<b>Question 5. Write a python script to print Hello on the first line and Python on the second line</b>"
   ]
  },
  {
   "cell_type": "code",
   "execution_count": 7,
   "id": "aafa7b66",
   "metadata": {},
   "outputs": [
    {
     "name": "stdout",
     "output_type": "stream",
     "text": [
      "Hello\n",
      "Python\n"
     ]
    }
   ],
   "source": [
    "print(\"Hello\",\"Python\", sep = '\\n')"
   ]
  },
  {
   "cell_type": "markdown",
   "id": "fb083d41",
   "metadata": {},
   "source": [
    "<b>Question 6. Write a python script to print “MySirG” on the screen</b>"
   ]
  },
  {
   "cell_type": "code",
   "execution_count": 8,
   "id": "5f33b5b1",
   "metadata": {},
   "outputs": [
    {
     "name": "stdout",
     "output_type": "stream",
     "text": [
      "\"MySirG\"\n"
     ]
    }
   ],
   "source": [
    "print('\"MySirG\"')"
   ]
  },
  {
   "cell_type": "markdown",
   "id": "e5766b1f",
   "metadata": {},
   "source": [
    "<b>Question 7. Write a python script to print “Teacher’s Day” on the screen</b>"
   ]
  },
  {
   "cell_type": "code",
   "execution_count": 9,
   "id": "12bd82bd",
   "metadata": {},
   "outputs": [
    {
     "name": "stdout",
     "output_type": "stream",
     "text": [
      "\"Teacher’s Day\"\n"
     ]
    }
   ],
   "source": [
    "print('\"'\"Teacher’s Day\"'\"')"
   ]
  },
  {
   "cell_type": "markdown",
   "id": "a1be1c85",
   "metadata": {},
   "source": [
    "<b>Question 8. Write a python script to print the value of a variable. Variable contains your name as data.</b>"
   ]
  },
  {
   "cell_type": "code",
   "execution_count": 10,
   "id": "f186af04",
   "metadata": {},
   "outputs": [
    {
     "name": "stdout",
     "output_type": "stream",
     "text": [
      "Shiv Sharma\n"
     ]
    }
   ],
   "source": [
    "v_name = \"Shiv Sharma\"\n",
    "print(v_name)"
   ]
  },
  {
   "cell_type": "markdown",
   "id": "891b00a5",
   "metadata": {},
   "source": [
    "<b>Question 9. Write a python script to create variables to store your name, age, qualification, years\n",
    "of experience and print it.</b>"
   ]
  },
  {
   "cell_type": "code",
   "execution_count": 11,
   "id": "95ab32dc",
   "metadata": {},
   "outputs": [
    {
     "name": "stdout",
     "output_type": "stream",
     "text": [
      "Shiv Sharma\n",
      "29\n",
      "M.Sc.\n",
      "5 Years\n"
     ]
    }
   ],
   "source": [
    "v_name = \"Shiv Sharma\"\n",
    "v_age = '29'\n",
    "v_qualification = 'M.Sc.'\n",
    "v_experience = \"5 Years\"\n",
    "\n",
    "print(v_name, v_age, v_qualification, v_experience, sep = '\\n')"
   ]
  },
  {
   "cell_type": "markdown",
   "id": "f3523e1b",
   "metadata": {},
   "source": [
    "<b>Question10. Write a python script to print values of three variables, each in a new line. Variable\n",
    "contains integer values</b>"
   ]
  },
  {
   "cell_type": "code",
   "execution_count": 12,
   "id": "dd0a593f",
   "metadata": {},
   "outputs": [
    {
     "name": "stdout",
     "output_type": "stream",
     "text": [
      "10\n",
      "20\n",
      "30\n"
     ]
    }
   ],
   "source": [
    "v_num1 = 10\n",
    "v_num2 = 20\n",
    "v_num3 = 30\n",
    "\n",
    "print(v_num1, v_num2, v_num3, sep = '\\n')"
   ]
  }
 ],
 "metadata": {
  "kernelspec": {
   "display_name": "Python 3 (ipykernel)",
   "language": "python",
   "name": "python3"
  },
  "language_info": {
   "codemirror_mode": {
    "name": "ipython",
    "version": 3
   },
   "file_extension": ".py",
   "mimetype": "text/x-python",
   "name": "python",
   "nbconvert_exporter": "python",
   "pygments_lexer": "ipython3",
   "version": "3.10.7"
  }
 },
 "nbformat": 4,
 "nbformat_minor": 5
}
