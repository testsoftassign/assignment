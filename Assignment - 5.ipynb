{
 "cells": [
  {
   "cell_type": "markdown",
   "id": "b851a081",
   "metadata": {},
   "source": [
    "# Assignment - 5 Full Stack Web Development using Python MySirG Operators"
   ]
  },
  {
   "cell_type": "markdown",
   "id": "74ef3004",
   "metadata": {},
   "source": [
    "1. Write a python script to remove the last digit from a given number. (for example, if\n",
    "user enters 2534 then your output should be 253)"
   ]
  },
  {
   "cell_type": "code",
   "execution_count": 1,
   "id": "4f5df558",
   "metadata": {},
   "outputs": [
    {
     "name": "stdout",
     "output_type": "stream",
     "text": [
      "2534\n",
      "253\n"
     ]
    }
   ],
   "source": [
    "v_str = input()\n",
    "\n",
    "print(v_str[ : -1])"
   ]
  },
  {
   "cell_type": "markdown",
   "id": "19727587",
   "metadata": {},
   "source": [
    "2. Write a python script to get the last digit from a given number. (for example, if user\n",
    "enters 2089 then your output should be 9)"
   ]
  },
  {
   "cell_type": "code",
   "execution_count": 2,
   "id": "924237b2",
   "metadata": {},
   "outputs": [
    {
     "name": "stdout",
     "output_type": "stream",
     "text": [
      "2089\n",
      "9\n"
     ]
    }
   ],
   "source": [
    "v_str = input()\n",
    "\n",
    "print(v_str[-1])"
   ]
  },
  {
   "cell_type": "markdown",
   "id": "04d80b7d",
   "metadata": {},
   "source": [
    "3. Write a python script to swap data of two variables\n"
   ]
  },
  {
   "cell_type": "code",
   "execution_count": 3,
   "id": "74ea2cf1",
   "metadata": {},
   "outputs": [
    {
     "name": "stdout",
     "output_type": "stream",
     "text": [
      "Value of v_num1 is :  200\n",
      "Value of v_num2 is :  100\n"
     ]
    }
   ],
   "source": [
    "v_num1 = 100\n",
    "v_num2 = 200\n",
    "\n",
    "v_num3 = v_num2\n",
    "\n",
    "v_num2 = v_num1\n",
    "v_num1 = v_num3\n",
    "\n",
    "print(\"Value of v_num1 is : \", v_num1)\n",
    "print(\"Value of v_num2 is : \", v_num2)"
   ]
  },
  {
   "cell_type": "markdown",
   "id": "b20d1876",
   "metadata": {},
   "source": [
    "4. Write a python script to find x power y, where values of x and y are given by user"
   ]
  },
  {
   "cell_type": "code",
   "execution_count": 4,
   "id": "7ab9246e",
   "metadata": {},
   "outputs": [
    {
     "name": "stdout",
     "output_type": "stream",
     "text": [
      "4\n",
      "6\n",
      "4096\n"
     ]
    }
   ],
   "source": [
    "x = int(input())\n",
    "y = int(input())\n",
    "\n",
    "print(x ** y)"
   ]
  },
  {
   "cell_type": "markdown",
   "id": "c413da91",
   "metadata": {},
   "source": [
    "5. Write a python script which takes a three digit number from the user and displays\n",
    "only its first digit."
   ]
  },
  {
   "cell_type": "code",
   "execution_count": 5,
   "id": "4fc1a5e9",
   "metadata": {},
   "outputs": [
    {
     "name": "stdout",
     "output_type": "stream",
     "text": [
      "879\n",
      "8\n"
     ]
    }
   ],
   "source": [
    "v_num1 = input()\n",
    "\n",
    "print(v_num1[0])"
   ]
  },
  {
   "cell_type": "markdown",
   "id": "4e1cb384",
   "metadata": {},
   "source": [
    "6. Write a python script which takes a three digit number from the user and displays\n",
    "only its middle digit.\n"
   ]
  },
  {
   "cell_type": "code",
   "execution_count": 6,
   "id": "03917a75",
   "metadata": {},
   "outputs": [
    {
     "name": "stdout",
     "output_type": "stream",
     "text": [
      "879\n",
      "7\n"
     ]
    }
   ],
   "source": [
    "v_num1 = input()\n",
    "\n",
    "print(v_num1[1])"
   ]
  },
  {
   "cell_type": "markdown",
   "id": "9bee8def",
   "metadata": {},
   "source": [
    "7. Write a python script which takes a three digit number from the user and displays\n",
    "only its last digit.\n"
   ]
  },
  {
   "cell_type": "code",
   "execution_count": 7,
   "id": "5e5ba604",
   "metadata": {},
   "outputs": [
    {
     "name": "stdout",
     "output_type": "stream",
     "text": [
      "879\n",
      "9\n"
     ]
    }
   ],
   "source": [
    "v_num1 = input()\n",
    "\n",
    "print(v_num1[-1])"
   ]
  },
  {
   "cell_type": "markdown",
   "id": "8ba31ea6",
   "metadata": {},
   "source": [
    "8. Write a python script to use IN operator to display the data present in the list"
   ]
  },
  {
   "cell_type": "code",
   "execution_count": 8,
   "id": "7a62b347",
   "metadata": {},
   "outputs": [
    {
     "name": "stdout",
     "output_type": "stream",
     "text": [
      "Found\n"
     ]
    }
   ],
   "source": [
    "v_list = [10, 50, 20, 90]\n",
    "\n",
    "if 20 in v_list:\n",
    "    print('Found')\n",
    "else:\n",
    "    print('Not Found')"
   ]
  },
  {
   "cell_type": "markdown",
   "id": "1f2b67dc",
   "metadata": {},
   "source": [
    "9. Write a python script to use NOT IN operator to display the data not present in list\n"
   ]
  },
  {
   "cell_type": "code",
   "execution_count": 9,
   "id": "a3173982",
   "metadata": {},
   "outputs": [
    {
     "name": "stdout",
     "output_type": "stream",
     "text": [
      "Not Found\n"
     ]
    }
   ],
   "source": [
    "v_list = [10, 50, 20, 90]\n",
    "\n",
    "if 25 not in v_list:\n",
    "    print('Not Found')\n",
    "else:\n",
    "    print('Found')"
   ]
  },
  {
   "cell_type": "markdown",
   "id": "c905aed5",
   "metadata": {},
   "source": [
    "10. Write a python script to use IS operator to display if both variables are the same\n",
    "object or not?"
   ]
  },
  {
   "cell_type": "code",
   "execution_count": 10,
   "id": "dcf174d0",
   "metadata": {},
   "outputs": [
    {
     "name": "stdout",
     "output_type": "stream",
     "text": [
      "v_str1 and v_str2 are the same object\n",
      "v_str1 and v_int1 are not the same object\n"
     ]
    }
   ],
   "source": [
    "v_str1 = 'aaaa'\n",
    "v_str2 = 'bbbb'\n",
    "\n",
    "v_int1 = 1111\n",
    "\n",
    "if(type(v_str1) == type(v_str2)):\n",
    "    print('v_str1 and v_str2 are the same object')\n",
    "else:\n",
    "    print('v_str1 and v_str2 are not the same object')\n",
    "\n",
    "if(type(v_str1) == type(v_int1)):\n",
    "    print('v_str1 and v_int1 are the same object')\n",
    "else:\n",
    "    print('v_str1 and v_int1 are not the same object')   \n"
   ]
  }
 ],
 "metadata": {
  "kernelspec": {
   "display_name": "Python 3 (ipykernel)",
   "language": "python",
   "name": "python3"
  },
  "language_info": {
   "codemirror_mode": {
    "name": "ipython",
    "version": 3
   },
   "file_extension": ".py",
   "mimetype": "text/x-python",
   "name": "python",
   "nbconvert_exporter": "python",
   "pygments_lexer": "ipython3",
   "version": "3.10.6"
  }
 },
 "nbformat": 4,
 "nbformat_minor": 5
}
