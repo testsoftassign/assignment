{
 "cells": [
  {
   "cell_type": "markdown",
   "id": "2a64df95",
   "metadata": {},
   "source": [
    "<b> Question 1. Write a python script to add comments and print “Learning Python” on screen.</b>"
   ]
  },
  {
   "cell_type": "code",
   "execution_count": 81,
   "id": "31665177",
   "metadata": {},
   "outputs": [
    {
     "name": "stdout",
     "output_type": "stream",
     "text": [
      "\"Learning Python\"\n"
     ]
    }
   ],
   "source": [
    "# line 1 comment\n",
    "\n",
    "print('\"'\"Learning Python\"'\"')\n"
   ]
  },
  {
   "cell_type": "markdown",
   "id": "40e81eb9",
   "metadata": {},
   "source": [
    "<b> Question 2. Write a python script to add multi line comments and print values of four variables,\n",
    "each in a new line. Variable contains any values.</b>\n"
   ]
  },
  {
   "cell_type": "code",
   "execution_count": 14,
   "id": "a3152fda",
   "metadata": {},
   "outputs": [
    {
     "name": "stdout",
     "output_type": "stream",
     "text": [
      "10\n",
      "20\n",
      "30\n",
      "40\n"
     ]
    }
   ],
   "source": [
    "'''\n",
    "line 1 comment\n",
    "line 2 comment\n",
    "line 3 comment\n",
    "line 4 comment\n",
    "'''\n",
    "\n",
    "v_num1 = 10\n",
    "v_num2 = 20\n",
    "v_num3 = 30\n",
    "v_num4 = 40\n",
    "\n",
    "print(v_num1, v_num2, v_num3, v_num4, sep = '\\n')"
   ]
  },
  {
   "cell_type": "markdown",
   "id": "e933d8ed",
   "metadata": {},
   "source": [
    "<b> Question 3. Write a python script to print types of variables. Create 5 variables each of them\n",
    "containing different types of data. (like 35, True, “MySirG”,5.46, 3+4j, etc)</b>"
   ]
  },
  {
   "cell_type": "code",
   "execution_count": 19,
   "id": "bc36f6ad",
   "metadata": {},
   "outputs": [
    {
     "name": "stdout",
     "output_type": "stream",
     "text": [
      "<class 'int'>\n",
      "<class 'bool'>\n",
      "<class 'str'>\n",
      "<class 'float'>\n",
      "<class 'complex'>\n"
     ]
    }
   ],
   "source": [
    "v_int = 35\n",
    "v_bool = True\n",
    "v_str = \"MySirG\"\n",
    "v_float = 5.46\n",
    "v_complex = 3+4j\n",
    "\n",
    "print(type(v_int))\n",
    "print(type(v_bool))\n",
    "print(type(v_str))\n",
    "print(type(v_float))\n",
    "print(type(v_complex))\n"
   ]
  },
  {
   "cell_type": "markdown",
   "id": "4477e95a",
   "metadata": {},
   "source": [
    "<b> Question 4. Write a python script to print the id of two variables containing the same integer\n",
    "values.</b>\n"
   ]
  },
  {
   "cell_type": "code",
   "execution_count": 31,
   "id": "3b32e943",
   "metadata": {},
   "outputs": [
    {
     "name": "stdout",
     "output_type": "stream",
     "text": [
      "2035955925520\n",
      "2035955925520\n"
     ]
    }
   ],
   "source": [
    "v_num1 = 10\n",
    "v_num2 = 10\n",
    "\n",
    "print(id(v_num1))\n",
    "print(id(v_num2))"
   ]
  },
  {
   "cell_type": "markdown",
   "id": "b564f7e6",
   "metadata": {},
   "source": [
    "<b> Question 5. Create four variables in a Python script and assign values of different data types to\n",
    "them. Write a Python script to print value, its type and id of each variable</b>"
   ]
  },
  {
   "cell_type": "code",
   "execution_count": 36,
   "id": "5a959239",
   "metadata": {},
   "outputs": [
    {
     "name": "stdout",
     "output_type": "stream",
     "text": [
      "id is :  2035955926320  and value is :  35\n",
      "id is :  140733174926184  and value is :  True\n",
      "id is :  2036039142640  and value is :  MySirG\n",
      "id is :  2036066410256  and value is :  5.46\n"
     ]
    }
   ],
   "source": [
    "v_int = 35\n",
    "v_bool = True\n",
    "v_str = \"MySirG\"\n",
    "v_float = 5.46\n",
    "\n",
    "print(\"id is : \", id(v_int), \" and value is : \", v_int)\n",
    "print(\"id is : \", id(v_bool), \" and value is : \", v_bool)\n",
    "print(\"id is : \", id(v_str), \" and value is : \", v_str)\n",
    "print(\"id is : \", id(v_float), \" and value is : \", v_float)\n",
    "\n"
   ]
  },
  {
   "cell_type": "markdown",
   "id": "9a8cfa7e",
   "metadata": {},
   "source": [
    "<b> Question 6. Write a python script to print all the keywords</b>\n"
   ]
  },
  {
   "cell_type": "code",
   "execution_count": 43,
   "id": "01ef91e9",
   "metadata": {},
   "outputs": [
    {
     "name": "stdout",
     "output_type": "stream",
     "text": [
      "['False', 'None', 'True', 'and', 'as', 'assert', 'async', 'await', 'break', 'class', 'continue', 'def', 'del', 'elif', 'else', 'except', 'finally', 'for', 'from', 'global', 'if', 'import', 'in', 'is', 'lambda', 'nonlocal', 'not', 'or', 'pass', 'raise', 'return', 'try', 'while', 'with', 'yield']\n"
     ]
    }
   ],
   "source": [
    "import keyword\n",
    "print(keyword.kwlist)"
   ]
  },
  {
   "cell_type": "markdown",
   "id": "29c0c1a3",
   "metadata": {},
   "source": [
    "# <b> Question 7. On Python shell use help() function and display the list of keywords</b>\n"
   ]
  },
  {
   "cell_type": "code",
   "execution_count": 88,
   "id": "d991dd6b",
   "metadata": {},
   "outputs": [
    {
     "name": "stdout",
     "output_type": "stream",
     "text": [
      "['False', 'None', 'True', 'and', 'as', 'assert', 'async', 'await', 'break', 'class', 'continue', 'def', 'del', 'elif', 'else', 'except', 'finally', 'for', 'from', 'global', 'if', 'import', 'in', 'is', 'lambda', 'nonlocal', 'not', 'or', 'pass', 'raise', 'return', 'try', 'while', 'with', 'yield']\n"
     ]
    }
   ],
   "source": [
    "import keyword\n",
    "print(keyword.kwlist)"
   ]
  },
  {
   "cell_type": "markdown",
   "id": "f081f7d6",
   "metadata": {},
   "source": [
    "<b> Question 8. Create two Python files A0.py and A1.py. Create a variable in A1.py and assign some\n",
    "value to it. Write a python script to import A1 module in A0 and print value of the\n",
    "variable created in A0.py</b>"
   ]
  },
  {
   "attachments": {
    "image-2.png": {
     "image/png": "[encoded data removed]"
    },
    "image-3.png": {
     "image/png": "[encoded data removed]"
    }
   },
   "cell_type": "markdown",
   "id": "bbd74b4b",
   "metadata": {},
   "source": [
    "![image-2.png](attachment:image-2.png)\n",
    "\n",
    "![image-3.png](attachment:image-3.png)\n"
   ]
  },
  {
   "cell_type": "code",
   "execution_count": null,
   "id": "aa349a07",
   "metadata": {},
   "outputs": [],
   "source": [
    "# %load A0.py\n",
    "import A1\n",
    "print(A1.v_int)"
   ]
  },
  {
   "cell_type": "code",
   "execution_count": 90,
   "id": "e94c3e12",
   "metadata": {},
   "outputs": [
    {
     "name": "stdout",
     "output_type": "stream",
     "text": [
      "100\n"
     ]
    }
   ],
   "source": [
    "%run A0.py"
   ]
  },
  {
   "cell_type": "markdown",
   "id": "c92f325f",
   "metadata": {},
   "source": [
    "<b> Question 9. Name the keywords, used as data in the Python script.</b>\n"
   ]
  },
  {
   "cell_type": "code",
   "execution_count": null,
   "id": "c6d16a1a",
   "metadata": {},
   "outputs": [],
   "source": [
    "'False', 'None', 'True'"
   ]
  },
  {
   "cell_type": "markdown",
   "id": "180b6a9c",
   "metadata": {},
   "source": [
    "<b> Question 10. Write a python script to display the current date and time. First create variables to\n",
    "store date and time, then display date and time in proper format (like: 13-8-2022 and\n",
    "9:00 PM)</b>"
   ]
  },
  {
   "cell_type": "code",
   "execution_count": 65,
   "id": "db63d3fb",
   "metadata": {},
   "outputs": [
    {
     "name": "stdout",
     "output_type": "stream",
     "text": [
      " 21-08-2022 19:32 PM\n"
     ]
    }
   ],
   "source": [
    "from datetime import datetime\n",
    "\n",
    "v_dt = datetime.now() \n",
    "v_date = v_dt.strftime(\" %d-%m-%Y %H:%M %p\")\n",
    "\n",
    "print(v_date)"
   ]
  }
 ],
 "metadata": {
  "kernelspec": {
   "display_name": "Python 3 (ipykernel)",
   "language": "python",
   "name": "python3"
  },
  "language_info": {
   "codemirror_mode": {
    "name": "ipython",
    "version": 3
   },
   "file_extension": ".py",
   "mimetype": "text/x-python",
   "name": "python",
   "nbconvert_exporter": "python",
   "pygments_lexer": "ipython3",
   "version": "3.10.7"
  }
 },
 "nbformat": 4,
 "nbformat_minor": 5
}
