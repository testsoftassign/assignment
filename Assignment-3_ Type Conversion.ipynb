{
 "cells": [
  {
   "cell_type": "markdown",
   "id": "2fef25a5",
   "metadata": {},
   "source": [
    "<b> Question 1. Write a python script to convert a number into str type.</b>"
   ]
  },
  {
   "cell_type": "code",
   "execution_count": 4,
   "id": "97ddda01",
   "metadata": {},
   "outputs": [
    {
     "name": "stdout",
     "output_type": "stream",
     "text": [
      "<class 'str'>\n"
     ]
    }
   ],
   "source": [
    "v_int = 100\n",
    "print(type(str(v_int)))"
   ]
  },
  {
   "cell_type": "markdown",
   "id": "e6bf9ada",
   "metadata": {},
   "source": [
    "<b> Question 2. Write a python script to print Unicode of the character ‘m’</b>"
   ]
  },
  {
   "cell_type": "code",
   "execution_count": 6,
   "id": "fc7f89dd",
   "metadata": {},
   "outputs": [
    {
     "name": "stdout",
     "output_type": "stream",
     "text": [
      "109\n"
     ]
    }
   ],
   "source": [
    "print(ord('m'))"
   ]
  },
  {
   "cell_type": "markdown",
   "id": "91b9b9e3",
   "metadata": {},
   "source": [
    "<b> Question 3. Write a python script to print character representation of a given unicode 100.</b>\n"
   ]
  },
  {
   "cell_type": "code",
   "execution_count": 10,
   "id": "59b72095",
   "metadata": {},
   "outputs": [
    {
     "name": "stdout",
     "output_type": "stream",
     "text": [
      "d\n"
     ]
    }
   ],
   "source": [
    "print(chr(100))"
   ]
  },
  {
   "cell_type": "markdown",
   "id": "2ed8b9be",
   "metadata": {},
   "source": [
    "<b> Question 4. Write a python script to print any number and its binary equivalent</b>"
   ]
  },
  {
   "cell_type": "code",
   "execution_count": 12,
   "id": "249446cf",
   "metadata": {},
   "outputs": [
    {
     "name": "stdout",
     "output_type": "stream",
     "text": [
      "0b1100\n"
     ]
    }
   ],
   "source": [
    "print(bin(12))"
   ]
  },
  {
   "cell_type": "markdown",
   "id": "ac3c3508",
   "metadata": {},
   "source": [
    "<b> Question 5. Write a python script to print any number and its octal equivalent.</b>\n"
   ]
  },
  {
   "cell_type": "code",
   "execution_count": 13,
   "id": "8b743690",
   "metadata": {},
   "outputs": [
    {
     "name": "stdout",
     "output_type": "stream",
     "text": [
      "0o14\n"
     ]
    }
   ],
   "source": [
    "print(oct(12))"
   ]
  },
  {
   "cell_type": "markdown",
   "id": "11825c1b",
   "metadata": {},
   "source": [
    "<b> Question 6. Write a python script to print any number and its hexadecimal equivalent.</b>"
   ]
  },
  {
   "cell_type": "code",
   "execution_count": 14,
   "id": "1030851c",
   "metadata": {},
   "outputs": [
    {
     "name": "stdout",
     "output_type": "stream",
     "text": [
      "0xc\n"
     ]
    }
   ],
   "source": [
    "print(hex(12))"
   ]
  },
  {
   "cell_type": "markdown",
   "id": "c4eb00c8",
   "metadata": {},
   "source": [
    "<b> Question 7. Write a python script to store binary number 1100101 in a variable and print it in\n",
    "decimal format.</b>\n"
   ]
  },
  {
   "cell_type": "code",
   "execution_count": 21,
   "id": "8309d3b5",
   "metadata": {},
   "outputs": [
    {
     "name": "stdout",
     "output_type": "stream",
     "text": [
      "101\n"
     ]
    }
   ],
   "source": [
    "x = 0b1100101\n",
    "\n",
    "print(x)\n"
   ]
  },
  {
   "cell_type": "markdown",
   "id": "423aa1c7",
   "metadata": {},
   "source": [
    "<b> Question 8. Write a python script to store a hexadecimal number 2F in a variable and print it in\n",
    "octal format</b>"
   ]
  },
  {
   "cell_type": "code",
   "execution_count": 22,
   "id": "4d70df81",
   "metadata": {},
   "outputs": [
    {
     "name": "stdout",
     "output_type": "stream",
     "text": [
      "0o57\n"
     ]
    }
   ],
   "source": [
    "x = 0x2F\n",
    "\n",
    "print(oct(x))"
   ]
  },
  {
   "cell_type": "markdown",
   "id": "03a95cb4",
   "metadata": {},
   "source": [
    "<b> Question 9. Write a python script to store an octal number 125 in a variable and print it in binary\n",
    "format.</b>"
   ]
  },
  {
   "cell_type": "code",
   "execution_count": 23,
   "id": "fdf97720",
   "metadata": {},
   "outputs": [
    {
     "name": "stdout",
     "output_type": "stream",
     "text": [
      "0b1010101\n"
     ]
    }
   ],
   "source": [
    "x = 0o125\n",
    "\n",
    "print(bin(x))"
   ]
  },
  {
   "cell_type": "markdown",
   "id": "f166ccfd",
   "metadata": {},
   "source": [
    "<b> Question 10. Write a python script to add two numbers 25 (in octal) and 39 (in hexadecimal) and\n",
    "display the result in binary format</b>"
   ]
  },
  {
   "cell_type": "code",
   "execution_count": 29,
   "id": "d5ac9427",
   "metadata": {},
   "outputs": [
    {
     "name": "stdout",
     "output_type": "stream",
     "text": [
      "0b101010b111001\n"
     ]
    }
   ],
   "source": [
    "x = bin(0o25) + bin(0x39)\n",
    "\n",
    "print(x)"
   ]
  }
 ],
 "metadata": {
  "kernelspec": {
   "display_name": "Python 3 (ipykernel)",
   "language": "python",
   "name": "python3"
  },
  "language_info": {
   "codemirror_mode": {
    "name": "ipython",
    "version": 3
   },
   "file_extension": ".py",
   "mimetype": "text/x-python",
   "name": "python",
   "nbconvert_exporter": "python",
   "pygments_lexer": "ipython3",
   "version": "3.10.7"
  }
 },
 "nbformat": 4,
 "nbformat_minor": 5
}
