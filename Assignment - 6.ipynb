{
 "cells": [
  {
   "cell_type": "markdown",
   "id": "8b1a3d28",
   "metadata": {},
   "source": [
    "## Assignment - 6 Full Stack Web Development using Python MySirG Decision Control"
   ]
  },
  {
   "cell_type": "markdown",
   "id": "3dfe5eb1",
   "metadata": {},
   "source": [
    "1. Write a python script to check whether a given number is positive or non-positive"
   ]
  },
  {
   "cell_type": "code",
   "execution_count": 1,
   "id": "a1a6c33f",
   "metadata": {},
   "outputs": [
    {
     "name": "stdout",
     "output_type": "stream",
     "text": [
      "10\n",
      "Number is positive\n"
     ]
    }
   ],
   "source": [
    "v_int = int(input())\n",
    "\n",
    "if v_int > 0:\n",
    "    print('Number is positive')\n",
    "else:\n",
    "    print('Number is non-positive')"
   ]
  },
  {
   "cell_type": "markdown",
   "id": "deb9d3f7",
   "metadata": {},
   "source": [
    "2. Write a python script to check whether a given number is divisible by 5 or not\n"
   ]
  },
  {
   "cell_type": "code",
   "execution_count": 8,
   "id": "4e51d766",
   "metadata": {},
   "outputs": [
    {
     "name": "stdout",
     "output_type": "stream",
     "text": [
      "8\n",
      "Number is not divisile by 5\n"
     ]
    }
   ],
   "source": [
    "v_int = int(input())\n",
    "\n",
    "# if (v_int % 5 == 0):\n",
    "#     print(\"Number is divisile by 5\")\n",
    "# else\n",
    "#     print(\"Number is not divisile by 5\")\n",
    "\n",
    "print(\"Number is divisile by 5\" if (v_int % 5 == 0) else \"Number is not divisile by 5\")\n"
   ]
  },
  {
   "cell_type": "markdown",
   "id": "025596be",
   "metadata": {},
   "source": [
    "3. Write a python script to check whether a given number is even or odd"
   ]
  },
  {
   "cell_type": "code",
   "execution_count": 13,
   "id": "215772db",
   "metadata": {},
   "outputs": [
    {
     "name": "stdout",
     "output_type": "stream",
     "text": [
      "9\n",
      "Odd Number\n"
     ]
    }
   ],
   "source": [
    "v_int = int(input())\n",
    "\n",
    "# if (v_int % 2) == 0:\n",
    "#    print(\"Even Number\")\n",
    "# else:\n",
    "#    print(\"Odd Number\")\n",
    "\n",
    "\n",
    "print(\"Even Number\" if (v_int % 2 == 0) else \"Odd Number\")\n"
   ]
  },
  {
   "cell_type": "markdown",
   "id": "23a80984",
   "metadata": {},
   "source": [
    "4. Write a python script to print greater between two numbers. Print number only once\n",
    "even if the numbers are the same."
   ]
  },
  {
   "cell_type": "code",
   "execution_count": 16,
   "id": "dd8083c5",
   "metadata": {},
   "outputs": [
    {
     "name": "stdout",
     "output_type": "stream",
     "text": [
      "10\n",
      "10\n",
      "10\n"
     ]
    }
   ],
   "source": [
    "v_int1 = int(input())\n",
    "v_int2 = int(input())\n",
    "\n",
    "print(v_int1 if (v_int1 > v_int2) else v_int2)\n",
    "    \n",
    "    "
   ]
  },
  {
   "cell_type": "markdown",
   "id": "2f6a1188",
   "metadata": {},
   "source": [
    "5. Write a python script to print two given words in dictionary order"
   ]
  },
  {
   "cell_type": "code",
   "execution_count": 20,
   "id": "1684a15e",
   "metadata": {},
   "outputs": [
    {
     "name": "stdout",
     "output_type": "stream",
     "text": [
      "Enter two words : \n",
      "aaaa\n",
      "bbbb\n",
      "('aaaa', 'bbbb')\n"
     ]
    }
   ],
   "source": [
    "print(\"Enter two words : \")\n",
    "v_str1, v_str2 = input(), input()\n",
    "\n",
    "print((v_str2, v_str1) if v_str1 > v_str2 else (v_str1, v_str2))"
   ]
  },
  {
   "cell_type": "markdown",
   "id": "e7776720",
   "metadata": {},
   "source": [
    "6. Write a python script to check whether a given number is a three digit number or not."
   ]
  },
  {
   "cell_type": "code",
   "execution_count": 43,
   "id": "077fbcc9",
   "metadata": {},
   "outputs": [
    {
     "name": "stdout",
     "output_type": "stream",
     "text": [
      "456\n",
      "Three digit number\n"
     ]
    }
   ],
   "source": [
    "v_int = int(input())\n",
    "\n",
    "if len(str(v_int)) == 3:\n",
    "    print(\"Three digit number\")\n",
    "else:\n",
    "    print(\"Not three digit number\")\n"
   ]
  },
  {
   "cell_type": "markdown",
   "id": "4da9778e",
   "metadata": {},
   "source": [
    "7. Write a python script to check whether a given number is positive, negative or zero.\n"
   ]
  },
  {
   "cell_type": "code",
   "execution_count": 48,
   "id": "b236a674",
   "metadata": {},
   "outputs": [
    {
     "name": "stdout",
     "output_type": "stream",
     "text": [
      "0\n",
      "Number is zero\n"
     ]
    }
   ],
   "source": [
    "v_int = int(input())\n",
    "\n",
    "if v_int == 0:\n",
    "    print(\"Number is zero\")\n",
    "elif v_int > 0:\n",
    "    print(\"Number is positive\")\n",
    "else:\n",
    "    print(\"Number is Negative\")"
   ]
  },
  {
   "cell_type": "markdown",
   "id": "97c42343",
   "metadata": {},
   "source": [
    "8. Write a python script to check whether a given quadratic equation has two real &\n",
    "distinct roots, real & equal roots or imaginary roots\n"
   ]
  },
  {
   "cell_type": "code",
   "execution_count": 22,
   "id": "4d531816",
   "metadata": {},
   "outputs": [
    {
     "name": "stdout",
     "output_type": "stream",
     "text": [
      "Enter value of a, b and c of a quadratic equation : \n",
      "2\n",
      "5\n",
      "3\n",
      "Real and distinct roots\n"
     ]
    }
   ],
   "source": [
    "print(\"Enter value of a, b and c of a quadratic equation : \")\n",
    "\n",
    "a, b, c = int(input()), int(input()), int(input())\n",
    "\n",
    "d = b**2-4*a*c\n",
    "\n",
    "if d > 0:\n",
    "    print(\"Real and distinct roots\")\n",
    "elif d == 0:\n",
    "    print(\"Real and equal roots\")\n",
    "else:\n",
    "    print(\"Imaginary roots\")\n",
    "    \n"
   ]
  },
  {
   "cell_type": "markdown",
   "id": "29ffd078",
   "metadata": {},
   "source": [
    "9. Write a python script to check whether a given year is a leap year or not.\n"
   ]
  },
  {
   "cell_type": "code",
   "execution_count": 24,
   "id": "db2b91e8",
   "metadata": {},
   "outputs": [
    {
     "name": "stdout",
     "output_type": "stream",
     "text": [
      "Enter year :2022\n",
      "The year is not a leap year!\n"
     ]
    }
   ],
   "source": [
    "v_year=int(input(\"Enter year :\"))\n",
    "\n",
    "if (v_year%4==0 and v_year%100!=0 or v_year%400 == 0):\n",
    "   print(\"The year is a leap year!\")\n",
    "else:\n",
    "   print(\"The year is not a leap year!\")"
   ]
  },
  {
   "cell_type": "markdown",
   "id": "01e85727",
   "metadata": {},
   "source": [
    "10. Write a python script to print greater among three numbers. Print number only once\n",
    "even if the numbers are the same.\n"
   ]
  },
  {
   "cell_type": "code",
   "execution_count": 26,
   "id": "5f545216",
   "metadata": {},
   "outputs": [
    {
     "name": "stdout",
     "output_type": "stream",
     "text": [
      "10\n",
      "25\n",
      "9\n",
      "25\n"
     ]
    }
   ],
   "source": [
    "a = int(input())\n",
    "b = int(input())\n",
    "c = int(input())\n",
    "\n",
    "# print(max(v_int1, v_int2, v_int3))\n",
    "\n",
    "print((a if a > c else c) if a > b else (b if b > c else c))\n",
    "\n",
    "\n",
    "\n"
   ]
  },
  {
   "cell_type": "markdown",
   "id": "21e5f518",
   "metadata": {},
   "source": [
    "11. Write a python script to take the month value in numeric format and display the\n",
    "number of days in it.\n"
   ]
  },
  {
   "cell_type": "code",
   "execution_count": 30,
   "id": "88af0c85",
   "metadata": {},
   "outputs": [
    {
     "name": "stdout",
     "output_type": "stream",
     "text": [
      "Enter month number : 12\n",
      "31 Days\n"
     ]
    }
   ],
   "source": [
    "month = int(input(\"Enter month number : \"))\n",
    "\n",
    "if month in (1, 3, 5, 7, 8, 10, 12):\n",
    "    print(\"31 Days\")\n",
    "elif month in (4, 6, 9, 11):\n",
    "    print(\"30 Days\")\n",
    "elif month == 2:\n",
    "    print(\"28 or 29 days\")\n",
    "else:\n",
    "    print(\"Invalid month number\")\n",
    "    \n"
   ]
  },
  {
   "cell_type": "markdown",
   "id": "86b3a0fd",
   "metadata": {},
   "source": [
    "12. Write a python script to accept one complex number from the user and display the greater number between real part and imaginary part"
   ]
  },
  {
   "cell_type": "code",
   "execution_count": 34,
   "id": "91f80500",
   "metadata": {},
   "outputs": [
    {
     "name": "stdout",
     "output_type": "stream",
     "text": [
      "Enter a complex number : 4.0\n",
      "4.0\n"
     ]
    }
   ],
   "source": [
    "x = complex(input(\"Enter a complex number : \"))\n",
    "\n",
    "print(x.real) if x.real > x.imag else print(x.imag)\n",
    "\n"
   ]
  }
 ],
 "metadata": {
  "kernelspec": {
   "display_name": "Python 3 (ipykernel)",
   "language": "python",
   "name": "python3"
  },
  "language_info": {
   "codemirror_mode": {
    "name": "ipython",
    "version": 3
   },
   "file_extension": ".py",
   "mimetype": "text/x-python",
   "name": "python",
   "nbconvert_exporter": "python",
   "pygments_lexer": "ipython3",
   "version": "3.10.7"
  }
 },
 "nbformat": 4,
 "nbformat_minor": 5
}
